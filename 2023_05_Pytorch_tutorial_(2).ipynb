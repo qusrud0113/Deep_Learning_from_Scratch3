{
  "nbformat": 4,
  "nbformat_minor": 0,
  "metadata": {
    "colab": {
      "provenance": []
    },
    "kernelspec": {
      "name": "python3",
      "display_name": "Python 3"
    },
    "language_info": {
      "name": "python"
    }
  },
  "cells": [
    {
      "cell_type": "markdown",
      "source": [
        "# 2023.05.11\n",
        "파이토치 튜토리얼(https://tutorials.pytorch.kr/beginner/basics/quickstart_tutorial.html) 내용 공부 및 정리\n",
        "\n",
        "Google Colab으로 진행"
      ],
      "metadata": {
        "id": "YIWed5FgNk6I"
      }
    },
    {
      "cell_type": "markdown",
      "source": [
        "## 5. TORCH.AUTOGRAD를 이용한 자동 미분\n",
        "신경망을 학습할 때 가장 자주 사용되는 알고리즘은 역전파이다. 역전파에서, 매개변수(model weight)는 주어진 매개변수에 대한 손실 함수의 변화도(gradient)에 따라 조정된다.\n",
        "\n",
        "이러한 변화도를 계산하기 위해 PyTorch에서는 torch.autograd라는 자동미분 엔진이 있다.\n",
        "\n",
        "    (Definition)\n",
        "    * x: input\n",
        "    * w: weight\n",
        "    * b: bias\n",
        "    Linear Regression hypothesis\n",
        "    H(x) = Wx + b"
      ],
      "metadata": {
        "id": "LsUh826jNrec"
      }
    },
    {
      "cell_type": "code",
      "execution_count": 1,
      "metadata": {
        "id": "zmV4bMHmNiCR"
      },
      "outputs": [],
      "source": [
        "import torch\n",
        "# input\n",
        "x = torch.ones(5)\n",
        "# ouput\n",
        "y = torch.zeros(3)\n",
        "# Weight \n",
        "w = torch.randn(5,3, requires_grad=True)\n",
        "b = torch.randn(3, requires_grad=True)\n",
        "# Part of Layer in deeplearning model\n",
        "z = torch.matmul(x, w) + b\n",
        "# binary cross entropy\n",
        "loss = torch.nn.functional.binary_cross_entropy_with_logits(z,y)"
      ]
    },
    {
      "cell_type": "markdown",
      "source": [
        "![comp-graph.png](data:image/png;base64,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)\n",
        "\n",
        "이 신경망에서 $w$와 $b$는 최적화해야 하는 매개변수이다. 이때 경사 하강법을 이용하여 비용이 최소화되는 방향을 찾는다.\n",
        "\n",
        "* 비용함수를 미분하여 이 함수의 기울기를 구하고, 손실이 최소화되는 방향 또는 오차를 최소화 되는 방향을 찾는 것\n",
        "* 위 $w$와 $b$에 requires_grad라는 속성이 최적화의 유무를 밝힌다.\n",
        "* requires_grad는 텐서를 생성할 때 설정하거나, 나중에 x.requires_grad_(True) 메소드를 이용할 수 도 있다."
      ],
      "metadata": {
        "id": "LAnWZFTXRFEy"
      }
    },
    {
      "cell_type": "code",
      "source": [
        "print(f\"Gradient function for z = {z.grad_fn}\")\n",
        "print(f\"Gradient function for loss = {loss.grad_fn}\")"
      ],
      "metadata": {
        "colab": {
          "base_uri": "https://localhost:8080/"
        },
        "id": "9AqbHJ4-RQ-2",
        "outputId": "447e62dd-c217-45d0-a8b8-3264d080e5c9"
      },
      "execution_count": 2,
      "outputs": [
        {
          "output_type": "stream",
          "name": "stdout",
          "text": [
            "Gradient function for z = <AddBackward0 object at 0x7f8387b4b6d0>\n",
            "Gradient function for loss = <BinaryCrossEntropyWithLogitsBackward0 object at 0x7f8387b4bd60>\n"
          ]
        }
      ]
    },
    {
      "cell_type": "markdown",
      "source": [
        "Gradient를 계산하는 방법은 backward()를 호출해서 Chain Role을 통해 derivative를 계산한다. 즉, $$\\frac{\\partial loss}{\\partial w},\\quad \\frac{\\partial loss}{\\partial b} $$를 계산한다."
      ],
      "metadata": {
        "id": "32bnX_6pbuhY"
      }
    },
    {
      "cell_type": "code",
      "source": [
        "loss.backward()\n",
        "print(w.grad)\n",
        "print(b.grad)"
      ],
      "metadata": {
        "colab": {
          "base_uri": "https://localhost:8080/"
        },
        "id": "oRQz1f86btzr",
        "outputId": "a1d6b59f-f4c3-4d09-fdf6-65f53ad76110"
      },
      "execution_count": 3,
      "outputs": [
        {
          "output_type": "stream",
          "name": "stdout",
          "text": [
            "tensor([[0.0720, 0.2134, 0.1108],\n",
            "        [0.0720, 0.2134, 0.1108],\n",
            "        [0.0720, 0.2134, 0.1108],\n",
            "        [0.0720, 0.2134, 0.1108],\n",
            "        [0.0720, 0.2134, 0.1108]])\n",
            "tensor([0.0720, 0.2134, 0.1108])\n"
          ]
        }
      ]
    },
    {
      "cell_type": "markdown",
      "source": [
        "이때, requires_grad가 True 경우에만 grad를 적용할 수 있다.\n",
        "\n",
        "Gradient 계산이 끝나고(모델 fit 이후), 입력데이터를 적용하는 경우에는 grad를 고려하지 않아도 된다.torch.no_grad()는 연산의 필요성을 확인할 수 있다."
      ],
      "metadata": {
        "id": "FAWJ7LTictVU"
      }
    },
    {
      "cell_type": "code",
      "source": [
        "z = torch.matmul(x, w) + b\n",
        "print(z.requires_grad)\n",
        "\n",
        "with torch.no_grad():\n",
        "    z = torch.matmul(x, w) + b\n",
        "print(z.requires_grad)"
      ],
      "metadata": {
        "colab": {
          "base_uri": "https://localhost:8080/"
        },
        "id": "8_B0sD65eyZJ",
        "outputId": "80e03381-efee-47dc-f7f9-70f03518f152"
      },
      "execution_count": 4,
      "outputs": [
        {
          "output_type": "stream",
          "name": "stdout",
          "text": [
            "True\n",
            "False\n"
          ]
        }
      ]
    },
    {
      "cell_type": "markdown",
      "source": [
        "동일한 결과를 확인하는 방법은 텐서에 detach()를 적용하는 것이다."
      ],
      "metadata": {
        "id": "cNCFYyuQfCvG"
      }
    },
    {
      "cell_type": "code",
      "source": [
        "z = torch.matmul(x, w) + b\n",
        "z_det = z.detach()\n",
        "print(z_det.requires_grad)"
      ],
      "metadata": {
        "colab": {
          "base_uri": "https://localhost:8080/"
        },
        "id": "LbYXn7nafBrm",
        "outputId": "aa750f46-8480-4c89-8689-cfac27225076"
      },
      "execution_count": 5,
      "outputs": [
        {
          "output_type": "stream",
          "name": "stdout",
          "text": [
            "False\n"
          ]
        }
      ]
    },
    {
      "cell_type": "code",
      "source": [],
      "metadata": {
        "id": "UMPQd_AmzviV"
      },
      "execution_count": 5,
      "outputs": []
    },
    {
      "cell_type": "markdown",
      "source": [
        "# PyTorch로 시작하는 딥러닝 입문 (https://wikidocs.net/book/2788)\n",
        "\n",
        "## 0.3 선형회귀(Linear Regression)\n",
        "예시) X가 1, 2, 3일 때, Y가 2, 4, 6이 나왔다. 그렇다면 4를 넣으면 어떤 값이 나올까?"
      ],
      "metadata": {
        "id": "dnGVt9hbzgNp"
      }
    },
    {
      "cell_type": "code",
      "source": [
        "import torch\n",
        "import torch.nn as nn\n",
        "import torch.nn.functional as F\n",
        "import torch.optim as optim"
      ],
      "metadata": {
        "id": "HKvvfFDXzx3h"
      },
      "execution_count": 6,
      "outputs": []
    },
    {
      "cell_type": "code",
      "source": [
        "# 랜덤 시드 고정\n",
        "torch.manual_seed(113)"
      ],
      "metadata": {
        "colab": {
          "base_uri": "https://localhost:8080/"
        },
        "id": "Ro5_v-L_zzRV",
        "outputId": "264807a3-cb25-411b-95af-0cb02e19e146"
      },
      "execution_count": 7,
      "outputs": [
        {
          "output_type": "execute_result",
          "data": {
            "text/plain": [
              "<torch._C.Generator at 0x7f82ce11cdf0>"
            ]
          },
          "metadata": {},
          "execution_count": 7
        }
      ]
    },
    {
      "cell_type": "code",
      "source": [
        "# 변수선언\n",
        "X_train = torch.FloatTensor([[1],[2],[3]])\n",
        "y_train = torch.FloatTensor([[2],[4],[6]])"
      ],
      "metadata": {
        "id": "_gF5ndRTz4kQ"
      },
      "execution_count": 8,
      "outputs": []
    },
    {
      "cell_type": "code",
      "source": [
        "print(X_train) \n",
        "print(X_train.size()) # 3x1 matrix"
      ],
      "metadata": {
        "colab": {
          "base_uri": "https://localhost:8080/"
        },
        "id": "_GyqdoGI0Hky",
        "outputId": "c6b83050-d3a8-4d5d-f054-106ad9715580"
      },
      "execution_count": 9,
      "outputs": [
        {
          "output_type": "stream",
          "name": "stdout",
          "text": [
            "tensor([[1.],\n",
            "        [2.],\n",
            "        [3.]])\n",
            "torch.Size([3, 1])\n"
          ]
        }
      ]
    },
    {
      "cell_type": "markdown",
      "source": [
        "Recall\n",
        "\n",
        "$H(x) = Wx + b$에서 학습 데이터와 가장 잘 맞는 하나의 직선을 찾는 것\n",
        "\n",
        "$→$ 직선을 정의하는 $W$, $b$를 찾는 것"
      ],
      "metadata": {
        "id": "_QfyqSR50UsL"
      }
    },
    {
      "cell_type": "code",
      "source": [
        "# Weight, bias 초기화\n",
        "W = torch.zeros(1, requires_grad = True)\n",
        "print(W)\n",
        "b = torch.zeros(1, requires_grad = True)\n",
        "print(b)"
      ],
      "metadata": {
        "colab": {
          "base_uri": "https://localhost:8080/"
        },
        "id": "E0TFu4mE0Scd",
        "outputId": "61ef4751-8430-4328-facc-b9651363ba3d"
      },
      "execution_count": 11,
      "outputs": [
        {
          "output_type": "stream",
          "name": "stdout",
          "text": [
            "tensor([0.], requires_grad=True)\n",
            "tensor([0.], requires_grad=True)\n"
          ]
        }
      ]
    },
    {
      "cell_type": "code",
      "source": [
        "# Define hypothesis\n",
        "\n",
        "h = X_train*W + b\n",
        "print(h)"
      ],
      "metadata": {
        "colab": {
          "base_uri": "https://localhost:8080/"
        },
        "id": "cghnbBBYUeVw",
        "outputId": "eb7ac1c3-3a80-4638-ed83-ba723b170987"
      },
      "execution_count": 12,
      "outputs": [
        {
          "output_type": "stream",
          "name": "stdout",
          "text": [
            "tensor([[0.],\n",
            "        [0.],\n",
            "        [0.]], grad_fn=<AddBackward0>)\n"
          ]
        }
      ]
    },
    {
      "cell_type": "markdown",
      "source": [
        "Define Cost function (Mean Squares Error)\n",
        "\n",
        "$$ cost(W,b) = \\frac{1}{n}\\sum_{i=1}^{n}\\bigg[y^{(i)} - H(x^{(i)})\\bigg]^{2}$$"
      ],
      "metadata": {
        "id": "mBqh_xJ3UyJj"
      }
    },
    {
      "cell_type": "code",
      "source": [
        "cost = torch.mean((h-y_train)**2)\n",
        "print(cost)"
      ],
      "metadata": {
        "colab": {
          "base_uri": "https://localhost:8080/"
        },
        "id": "hNTQx0vfVt3i",
        "outputId": "12808de4-e34f-4c03-e523-a97db769602b"
      },
      "execution_count": 13,
      "outputs": [
        {
          "output_type": "stream",
          "name": "stdout",
          "text": [
            "tensor(18.6667, grad_fn=<MeanBackward0>)\n"
          ]
        }
      ]
    },
    {
      "cell_type": "markdown",
      "source": [
        "Define optimizer function (Stochastic Gradient Descent)\n",
        "![2a3d6a77-2517-42eb-b6c2-35a2c9f86c7d.jpg](data:image/jpeg;base64,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)"
      ],
      "metadata": {
        "id": "63UBra5QWAha"
      }
    },
    {
      "cell_type": "code",
      "source": [
        "# 자동 미분(grad)가능한 W, b를 최적화하는 함수 정의\n",
        "# 방법은 SGD를 사용하고, lr은 learning rate를 의미\n",
        "optimizer = optim.SGD([W, b], lr = 0.01)"
      ],
      "metadata": {
        "id": "u_BMk8mpWe4h"
      },
      "execution_count": 14,
      "outputs": []
    },
    {
      "cell_type": "code",
      "source": [
        "# W, b를 초기화했던 것 처럼, optimizer의 기울기도 0으로 초기화\n",
        "optimizer.zero_grad()\n",
        "# backward()를 통해 정의한 cost function 미분 (requires_grad = True인 W, b를 미분함)\n",
        "cost.backward()\n",
        "# update W and b\n",
        "optimizer.step()"
      ],
      "metadata": {
        "id": "U_XEgYs8Wxub"
      },
      "execution_count": null,
      "outputs": []
    },
    {
      "cell_type": "code",
      "source": [
        "# Full code\n",
        "# 변수선언\n",
        "X_train = torch.FloatTensor([[1],[2],[3]])\n",
        "y_train = torch.FloatTensor([[2],[4],[6]])\n",
        "\n",
        "# Weight, bias 초기화\n",
        "W = torch.zeros(1, requires_grad = True)\n",
        "b = torch.zeros(1, requires_grad = True)\n",
        "\n",
        "# Define hypothesis & cost function\n",
        "hx = X_train*W + b\n",
        "cost = torch.mean((h-y_train)**2)\n",
        "\n",
        "epochs = 1999\n",
        "optimizer = optim.SGD([W,b], lr =0.01)\n",
        "for epoch in range(epochs +1):\n",
        "    hx = X_train*W + b\n",
        "    cost = torch.mean((hx - y_train)**2)\n",
        "\n",
        "    optimizer.zero_grad()\n",
        "    cost.backward()\n",
        "    optimizer.step()\n",
        "\n",
        "    if epoch % 100 == 0:\n",
        "        print(f'Epoch {epoch}/{epochs+1} W:{round(W.item(),3)}, b: {round(b.item(),3)}, Cost: {round(cost.item(),6)}')"
      ],
      "metadata": {
        "colab": {
          "base_uri": "https://localhost:8080/"
        },
        "id": "Hl5rrib9YS3P",
        "outputId": "1e8d43af-a5ff-4230-ea2c-babc92bb40cc"
      },
      "execution_count": 20,
      "outputs": [
        {
          "output_type": "stream",
          "name": "stdout",
          "text": [
            "Epoch 0/2000 W:0.187, b: 0.08, Cost: 18.666666\n",
            "Epoch 100/2000 W:1.746, b: 0.578, Cost: 0.048171\n",
            "Epoch 200/2000 W:1.8, b: 0.454, Cost: 0.029767\n",
            "Epoch 300/2000 W:1.843, b: 0.357, Cost: 0.018394\n",
            "Epoch 400/2000 W:1.876, b: 0.281, Cost: 0.011366\n",
            "Epoch 500/2000 W:1.903, b: 0.221, Cost: 0.007024\n",
            "Epoch 600/2000 W:1.924, b: 0.174, Cost: 0.00434\n",
            "Epoch 700/2000 W:1.94, b: 0.136, Cost: 0.002682\n",
            "Epoch 800/2000 W:1.953, b: 0.107, Cost: 0.001657\n",
            "Epoch 900/2000 W:1.963, b: 0.084, Cost: 0.001024\n",
            "Epoch 1000/2000 W:1.971, b: 0.066, Cost: 0.000633\n",
            "Epoch 1100/2000 W:1.977, b: 0.052, Cost: 0.000391\n",
            "Epoch 1200/2000 W:1.982, b: 0.041, Cost: 0.000242\n",
            "Epoch 1300/2000 W:1.986, b: 0.032, Cost: 0.000149\n",
            "Epoch 1400/2000 W:1.989, b: 0.025, Cost: 9.2e-05\n",
            "Epoch 1500/2000 W:1.991, b: 0.02, Cost: 5.7e-05\n",
            "Epoch 1600/2000 W:1.993, b: 0.016, Cost: 3.5e-05\n",
            "Epoch 1700/2000 W:1.995, b: 0.012, Cost: 2.2e-05\n",
            "Epoch 1800/2000 W:1.996, b: 0.01, Cost: 1.3e-05\n",
            "Epoch 1900/2000 W:1.997, b: 0.008, Cost: 8e-06\n"
          ]
        }
      ]
    },
    {
      "cell_type": "markdown",
      "source": [
        "여기서 X_train이 1, 2, 3일 때 결론이 2, 4, 6으로 나오게하는 $H(x)$ 함수를 $W$, $b$를 미분하여 최적화한다. 이때 에포크(epoch)는 전체 훈련 데이터가 학습에 한 번 사용된 주기를 말한다. 이 경우 2000번 진행됨.\n",
        "\n",
        "\\\n",
        "Conclusion\n",
        "* 최적의 기울기 $W$는 2에 가깝고, $b$는 0에 가까움.\n",
        "* X_train으로 y_train이 되게하는 함수는 $H(x) = 2x$이므로 거의 정답에 가까워짐."
      ],
      "metadata": {
        "id": "RajWvmv2cujH"
      }
    },
    {
      "cell_type": "code",
      "source": [
        "# 최적화를 통해 결론 도출\n",
        "X_train = torch.tensor(4.0)\n",
        "print(f'x가 {X_train.item()}일 때 y 예측 값은 {round((X_train*W + b).item(),4)}이다.')"
      ],
      "metadata": {
        "colab": {
          "base_uri": "https://localhost:8080/"
        },
        "id": "rZn-Ai6ifohK",
        "outputId": "16e180e0-26e6-43d1-d207-3f4d652563a0"
      },
      "execution_count": 41,
      "outputs": [
        {
          "output_type": "stream",
          "name": "stdout",
          "text": [
            "x가 4.0일 때 y 예측 값은 7.9955이다.\n"
          ]
        }
      ]
    },
    {
      "cell_type": "code",
      "source": [
        "# cf 1. Reasonablity of optimizer.zero_grad()\n",
        "w = torch.tensor(2.0, requires_grad= True)\n",
        "\n",
        "epochs = 20\n",
        "#optimizer = optimizer = optim.SGD([w], lr =0.01)\n",
        "for epoch in range(epochs):\n",
        "    z = 2*w\n",
        "    #optimizer.zero_grad()\n",
        "    z.backward()\n",
        "    print(f'Eporch {epoch}) 수식을 w로 미분한 값 : {w.grad}')"
      ],
      "metadata": {
        "colab": {
          "base_uri": "https://localhost:8080/"
        },
        "id": "RPgP7LDTdzA4",
        "outputId": "bf8ee374-1b15-4823-ece1-33665f7634ef"
      },
      "execution_count": 26,
      "outputs": [
        {
          "output_type": "stream",
          "name": "stdout",
          "text": [
            "Eporch 0) 수식을 w로 미분한 값 : 2.0\n",
            "Eporch 1) 수식을 w로 미분한 값 : 4.0\n",
            "Eporch 2) 수식을 w로 미분한 값 : 6.0\n",
            "Eporch 3) 수식을 w로 미분한 값 : 8.0\n",
            "Eporch 4) 수식을 w로 미분한 값 : 10.0\n",
            "Eporch 5) 수식을 w로 미분한 값 : 12.0\n",
            "Eporch 6) 수식을 w로 미분한 값 : 14.0\n",
            "Eporch 7) 수식을 w로 미분한 값 : 16.0\n",
            "Eporch 8) 수식을 w로 미분한 값 : 18.0\n",
            "Eporch 9) 수식을 w로 미분한 값 : 20.0\n",
            "Eporch 10) 수식을 w로 미분한 값 : 22.0\n",
            "Eporch 11) 수식을 w로 미분한 값 : 24.0\n",
            "Eporch 12) 수식을 w로 미분한 값 : 26.0\n",
            "Eporch 13) 수식을 w로 미분한 값 : 28.0\n",
            "Eporch 14) 수식을 w로 미분한 값 : 30.0\n",
            "Eporch 15) 수식을 w로 미분한 값 : 32.0\n",
            "Eporch 16) 수식을 w로 미분한 값 : 34.0\n",
            "Eporch 17) 수식을 w로 미분한 값 : 36.0\n",
            "Eporch 18) 수식을 w로 미분한 값 : 38.0\n",
            "Eporch 19) 수식을 w로 미분한 값 : 40.0\n"
          ]
        }
      ]
    },
    {
      "cell_type": "markdown",
      "source": [
        "PyTorch는 미분을 통해 얻은 기울기를 이전 기울기 값에 누적시키는 특징이 있음. Optimizer를 초기화시켜주지 않아, 미분값이 계속 2씩 누적되는 것을 확인 할 수 있음. 따라서 zero_grad()를 통해 미분값을 계속 초기화 시켜줘야함."
      ],
      "metadata": {
        "id": "h11tBcLVfJEr"
      }
    },
    {
      "cell_type": "code",
      "source": [
        "# cf 1. Reasonablity of optimizer.zero_grad()\n",
        "w = torch.tensor(2.0, requires_grad= True)\n",
        "\n",
        "epochs = 20\n",
        "optimizer = optimizer = optim.SGD([w], lr =0.01)\n",
        "for epoch in range(epochs):\n",
        "    z = 2*w\n",
        "    optimizer.zero_grad()\n",
        "    z.backward()\n",
        "    print(f'Eporch {epoch}) 수식을 w로 미분한 값 : {w.grad}')"
      ],
      "metadata": {
        "colab": {
          "base_uri": "https://localhost:8080/"
        },
        "id": "1sQAxppafebb",
        "outputId": "e55c1651-cf48-4389-ca16-6cdbd871daae"
      },
      "execution_count": 89,
      "outputs": [
        {
          "output_type": "stream",
          "name": "stdout",
          "text": [
            "Eporch 0) 수식을 w로 미분한 값 : 2.0\n",
            "Eporch 1) 수식을 w로 미분한 값 : 2.0\n",
            "Eporch 2) 수식을 w로 미분한 값 : 2.0\n",
            "Eporch 3) 수식을 w로 미분한 값 : 2.0\n",
            "Eporch 4) 수식을 w로 미분한 값 : 2.0\n",
            "Eporch 5) 수식을 w로 미분한 값 : 2.0\n",
            "Eporch 6) 수식을 w로 미분한 값 : 2.0\n",
            "Eporch 7) 수식을 w로 미분한 값 : 2.0\n",
            "Eporch 8) 수식을 w로 미분한 값 : 2.0\n",
            "Eporch 9) 수식을 w로 미분한 값 : 2.0\n",
            "Eporch 10) 수식을 w로 미분한 값 : 2.0\n",
            "Eporch 11) 수식을 w로 미분한 값 : 2.0\n",
            "Eporch 12) 수식을 w로 미분한 값 : 2.0\n",
            "Eporch 13) 수식을 w로 미분한 값 : 2.0\n",
            "Eporch 14) 수식을 w로 미분한 값 : 2.0\n",
            "Eporch 15) 수식을 w로 미분한 값 : 2.0\n",
            "Eporch 16) 수식을 w로 미분한 값 : 2.0\n",
            "Eporch 17) 수식을 w로 미분한 값 : 2.0\n",
            "Eporch 18) 수식을 w로 미분한 값 : 2.0\n",
            "Eporch 19) 수식을 w로 미분한 값 : 2.0\n"
          ]
        }
      ]
    },
    {
      "cell_type": "markdown",
      "source": [
        "## 0.3.4 다중 선형 회귀 (Multivariable Linear regression)\n",
        "앞선 $x$가 하나인 선형 회귀를 단순 선형 회귀(simple linear regression)이라 한다. 이번에는 다수의 $x$로 $y$를 예측하는 선형 회귀법에 대해 알아본다.\n",
        "\n",
        "![훈련데이터.PNG](data:image/png;base64,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)\n",
        "\n",
        "다음의 예시는 3개의 퀴즈 점수로부터 최종 점수를 예측하는 모델을 만들어본다. 독립변수 $x$가 3개이므로, 회귀식은 다음과 같이 표현된다\n",
        "$$H(x) = w_{1}x_{1} + w_{2}x_{2} + w_{3}x_{3}+b$$\n",
        "이때 $x = (x_{1}, x_{2}, x_{3}).$"
      ],
      "metadata": {
        "id": "iznI4t88g7H8"
      }
    },
    {
      "cell_type": "code",
      "source": [
        "import torch\n",
        "import torch.nn as nn\n",
        "import torch.nn.functional as F\n",
        "import torch.optim as optim\n",
        "\n",
        "torch.manual_seed(113)"
      ],
      "metadata": {
        "colab": {
          "base_uri": "https://localhost:8080/"
        },
        "id": "Bomk1PW9g6sx",
        "outputId": "ded6ecab-609e-4fdb-e282-8bd8dd887fc1"
      },
      "execution_count": 42,
      "outputs": [
        {
          "output_type": "execute_result",
          "data": {
            "text/plain": [
              "<torch._C.Generator at 0x7f82ce11cdf0>"
            ]
          },
          "metadata": {},
          "execution_count": 42
        }
      ]
    },
    {
      "cell_type": "code",
      "source": [
        "# 변수선언\n",
        "X_train1 = torch.FloatTensor([[73],[93],[89],[96],[73]])\n",
        "X_train2 = torch.FloatTensor([[80],[88],[91],[98],[66]])\n",
        "X_train3 = torch.FloatTensor([[75],[93],[80],[100],[70]])\n",
        "\n",
        "y_train = torch.FloatTensor([[152],[185],[180],[196],[142]])\n",
        "\n",
        "# 가중치 w와 편향 b 초기화\n",
        "w1 = torch.zeros(1, requires_grad=True)\n",
        "w2 = torch.zeros(1, requires_grad=True)\n",
        "w3 = torch.zeros(1, requires_grad=True)\n",
        "b = torch.zeros(1, requires_grad=True)\n",
        "\n",
        "optimizer = optim.SGD([w1,w2,w3,b], lr = 1e-5)\n",
        "epochs = 50000\n",
        "for epoch in range(epochs +1):\n",
        "    hx = X_train1*w1 + X_train2*w2 + X_train3*w3 +b\n",
        "    cost = torch.mean((hx - y_train)**2)\n",
        "    optimizer.zero_grad()\n",
        "    cost.backward()\n",
        "    optimizer.step()\n",
        "    if cost < 0.11:\n",
        "        print(epoch)\n",
        "        break\n",
        "    if epoch%1000 == 0:\n",
        "        print(f'Epoch: {epoch}, w1: {round(w1.item(),3)}, w2: {round(w2.item(),3)}, w3: {round(w3.item(),3)}, b: {round(b.item(),3)}, cost: {round(cost.item(), 6)}')"
      ],
      "metadata": {
        "colab": {
          "base_uri": "https://localhost:8080/"
        },
        "id": "xEf47M1ikXo-",
        "outputId": "88b25619-2618-4120-d11d-44f4c728842e"
      },
      "execution_count": 93,
      "outputs": [
        {
          "output_type": "stream",
          "name": "stdout",
          "text": [
            "Epoch: 0, w1: 0.294, w2: 0.294, w3: 0.29, b: 0.003, cost: 29661.800781\n",
            "Epoch: 1000, w1: 0.766, w2: 0.7, w3: 0.559, b: 0.009, cost: 3.941866\n",
            "Epoch: 2000, w1: 0.84, w2: 0.711, w3: 0.473, b: 0.009, cost: 2.643327\n",
            "Epoch: 3000, w1: 0.903, w2: 0.713, w3: 0.407, b: 0.01, cost: 1.806983\n",
            "Epoch: 4000, w1: 0.956, w2: 0.712, w3: 0.355, b: 0.01, cost: 1.257653\n",
            "Epoch: 5000, w1: 1.0, w2: 0.707, w3: 0.315, b: 0.01, cost: 0.891414\n",
            "Epoch: 6000, w1: 1.038, w2: 0.702, w3: 0.282, b: 0.01, cost: 0.644611\n",
            "Epoch: 7000, w1: 1.069, w2: 0.696, w3: 0.257, b: 0.009, cost: 0.476996\n",
            "Epoch: 8000, w1: 1.095, w2: 0.691, w3: 0.236, b: 0.009, cost: 0.36252\n",
            "Epoch: 9000, w1: 1.117, w2: 0.685, w3: 0.219, b: 0.009, cost: 0.28403\n",
            "Epoch: 10000, w1: 1.135, w2: 0.681, w3: 0.206, b: 0.008, cost: 0.230066\n",
            "Epoch: 11000, w1: 1.15, w2: 0.676, w3: 0.195, b: 0.008, cost: 0.192902\n",
            "Epoch: 12000, w1: 1.163, w2: 0.673, w3: 0.186, b: 0.007, cost: 0.167262\n",
            "Epoch: 13000, w1: 1.173, w2: 0.669, w3: 0.178, b: 0.007, cost: 0.149554\n",
            "Epoch: 14000, w1: 1.182, w2: 0.667, w3: 0.172, b: 0.006, cost: 0.137319\n",
            "Epoch: 15000, w1: 1.189, w2: 0.664, w3: 0.167, b: 0.005, cost: 0.128852\n",
            "Epoch: 16000, w1: 1.195, w2: 0.662, w3: 0.163, b: 0.005, cost: 0.12298\n",
            "Epoch: 17000, w1: 1.201, w2: 0.66, w3: 0.16, b: 0.004, cost: 0.118911\n",
            "Epoch: 18000, w1: 1.205, w2: 0.659, w3: 0.157, b: 0.004, cost: 0.116085\n",
            "Epoch: 19000, w1: 1.208, w2: 0.658, w3: 0.155, b: 0.003, cost: 0.114113\n",
            "Epoch: 20000, w1: 1.211, w2: 0.657, w3: 0.153, b: 0.002, cost: 0.112735\n",
            "Epoch: 21000, w1: 1.214, w2: 0.656, w3: 0.151, b: 0.001, cost: 0.111769\n",
            "Epoch: 22000, w1: 1.216, w2: 0.655, w3: 0.15, b: 0.001, cost: 0.111085\n",
            "Epoch: 23000, w1: 1.217, w2: 0.655, w3: 0.149, b: 0.0, cost: 0.11059\n",
            "Epoch: 24000, w1: 1.219, w2: 0.654, w3: 0.148, b: -0.001, cost: 0.110235\n",
            "24879\n"
          ]
        }
      ]
    },
    {
      "cell_type": "markdown",
      "source": [
        "지금 코드의 단점은 변수의 선언이다. X_train과 $W$를 하나하나 이름을 붙여주며 만들었지만, 차원이 높아진다면 매우 번거로운 일이 될 것이다.\n",
        "\n",
        "따라서 행렬을 정의하고, 벡터의 내적을 이용하여 간단하게 보일 것이다.\\\n",
        "Define \\\n",
        "$ x = (x_{1}, x_{2}, x_{3}) $\\\n",
        "$ w = (w_{1}, w_{2}, w_{3})^{T}$\\\n",
        "$ x\\cdot w = x_{1}w_{1} + x_{2}w_{2} + x_{3}w_{3} $\n",
        "\n",
        "$→ H(x) = x\\cdot w $"
      ],
      "metadata": {
        "id": "BLSPmP9amYhU"
      }
    },
    {
      "cell_type": "code",
      "source": [
        "# 행렬로 변수 재선언\n",
        "# 1 x 3 행렬로 5개 선언\n",
        "X_train = torch.FloatTensor([[73,  80,  75], \n",
        "                               [93,  88,  93], \n",
        "                               [89,  91,  80], \n",
        "                               [96,  98,  100],   \n",
        "                               [73,  66,  70]])  \n",
        "y_train = torch.FloatTensor([[152],[185],[180],[196],[142]])\n",
        "\n",
        "print(X_train.size())\n",
        "print(y_train.size())"
      ],
      "metadata": {
        "colab": {
          "base_uri": "https://localhost:8080/"
        },
        "id": "hvGC1j5jnT6C",
        "outputId": "68aad4d0-19c1-4efc-ac1b-5b2f41dfe0ae"
      },
      "execution_count": 73,
      "outputs": [
        {
          "output_type": "stream",
          "name": "stdout",
          "text": [
            "torch.Size([5, 3])\n",
            "torch.Size([5, 1])\n"
          ]
        }
      ]
    },
    {
      "cell_type": "code",
      "source": [
        "# 가중치 w와 편향 b 초기화\n",
        "W = torch.zeros((3,1), requires_grad=True)\n",
        "b = torch.zeros(1, requires_grad=True)\n",
        "\n",
        "optimizer = optim.SGD([W,b], lr = 1e-5)\n",
        "epochs = 50000\n",
        "for epoch in range(epochs +1):\n",
        "    hx = X_train.matmul(W) +b\n",
        "    cost = torch.mean((hx - y_train)**2)\n",
        "    optimizer.zero_grad()\n",
        "    cost.backward()\n",
        "    optimizer.step()\n",
        "    if cost < 0.11:\n",
        "        print(epoch)\n",
        "        break\n",
        "    if epoch%1000 == 0:\n",
        "        print(f'Epoch: {epoch}, W: {round(W[0].item(),3), round(W[1].item(),3), round(W[2].item(),3)}, b: {round(b.item(),3)}, cost: {round(cost.item(), 6)}\\\n",
        "              , pred: {hx.squeeze().detach()}, ')"
      ],
      "metadata": {
        "colab": {
          "base_uri": "https://localhost:8080/"
        },
        "id": "cYhk--A6nx0H",
        "outputId": "29589f63-f51d-4d7a-c756-e77a56f84570"
      },
      "execution_count": 92,
      "outputs": [
        {
          "output_type": "stream",
          "name": "stdout",
          "text": [
            "Epoch: 0, W: (0.294, 0.294, 0.29), b: 0.003, cost: 29661.800781              , pred: tensor([0., 0., 0., 0., 0.]), \n",
            "Epoch: 1000, W: (0.766, 0.7, 0.559), b: 0.009, cost: 3.941853              , pred: tensor([153.8955, 184.8841, 176.6536, 198.0995, 141.2951]), \n",
            "Epoch: 2000, W: (0.84, 0.711, 0.473), b: 0.009, cost: 2.64334              , pred: tensor([153.7204, 184.7364, 177.3512, 197.6782, 141.4043]), \n",
            "Epoch: 3000, W: (0.903, 0.713, 0.407), b: 0.01, cost: 1.80699              , pred: tensor([153.5477, 184.6475, 177.8806, 197.3408, 141.5250]), \n",
            "Epoch: 4000, W: (0.956, 0.712, 0.355), b: 0.01, cost: 1.257653              , pred: tensor([153.3855, 184.5969, 178.2860, 197.0692, 141.6459]), \n",
            "Epoch: 5000, W: (1.0, 0.707, 0.315), b: 0.01, cost: 0.891409              , pred: tensor([153.2379, 184.5707, 178.5994, 196.8493, 141.7604]), \n",
            "Epoch: 6000, W: (1.038, 0.702, 0.282), b: 0.01, cost: 0.644614              , pred: tensor([153.1065, 184.5599, 178.8437, 196.6707, 141.8653]), \n",
            "Epoch: 7000, W: (1.069, 0.696, 0.257), b: 0.009, cost: 0.477002              , pred: tensor([152.9913, 184.5584, 179.0356, 196.5250, 141.9590]), \n",
            "Epoch: 8000, W: (1.095, 0.691, 0.236), b: 0.009, cost: 0.362521              , pred: tensor([152.8914, 184.5623, 179.1876, 196.4059, 142.0414]), \n",
            "Epoch: 9000, W: (1.117, 0.685, 0.219), b: 0.009, cost: 0.284028              , pred: tensor([152.8055, 184.5690, 179.3087, 196.3082, 142.1130]), \n",
            "Epoch: 10000, W: (1.135, 0.681, 0.206), b: 0.008, cost: 0.230071              , pred: tensor([152.7321, 184.5770, 179.4058, 196.2279, 142.1747]), \n",
            "Epoch: 11000, W: (1.15, 0.676, 0.195), b: 0.008, cost: 0.192907              , pred: tensor([152.6698, 184.5854, 179.4841, 196.1617, 142.2273]), \n",
            "Epoch: 12000, W: (1.163, 0.673, 0.186), b: 0.007, cost: 0.167266              , pred: tensor([152.6170, 184.5934, 179.5475, 196.1072, 142.2721]), \n",
            "Epoch: 13000, W: (1.173, 0.669, 0.178), b: 0.007, cost: 0.149558              , pred: tensor([152.5725, 184.6009, 179.5990, 196.0622, 142.3100]), \n",
            "Epoch: 14000, W: (1.182, 0.667, 0.172), b: 0.006, cost: 0.137317              , pred: tensor([152.5351, 184.6077, 179.6411, 196.0249, 142.3420]), \n",
            "Epoch: 15000, W: (1.189, 0.664, 0.167), b: 0.005, cost: 0.128853              , pred: tensor([152.5037, 184.6137, 179.6756, 195.9941, 142.3688]), \n",
            "Epoch: 16000, W: (1.195, 0.662, 0.163), b: 0.005, cost: 0.122983              , pred: tensor([152.4774, 184.6189, 179.7039, 195.9686, 142.3914]), \n",
            "Epoch: 17000, W: (1.201, 0.66, 0.16), b: 0.004, cost: 0.118916              , pred: tensor([152.4553, 184.6235, 179.7272, 195.9475, 142.4102]), \n",
            "Epoch: 18000, W: (1.205, 0.659, 0.157), b: 0.004, cost: 0.116085              , pred: tensor([152.4368, 184.6274, 179.7463, 195.9300, 142.4260]), \n",
            "Epoch: 19000, W: (1.208, 0.658, 0.155), b: 0.003, cost: 0.114116              , pred: tensor([152.4214, 184.6307, 179.7622, 195.9155, 142.4392]), \n",
            "Epoch: 20000, W: (1.211, 0.657, 0.153), b: 0.002, cost: 0.112732              , pred: tensor([152.4085, 184.6335, 179.7753, 195.9034, 142.4501]), \n",
            "Epoch: 21000, W: (1.214, 0.656, 0.151), b: 0.001, cost: 0.111768              , pred: tensor([152.3978, 184.6359, 179.7861, 195.8935, 142.4593]), \n",
            "Epoch: 22000, W: (1.216, 0.655, 0.15), b: 0.001, cost: 0.111079              , pred: tensor([152.3888, 184.6380, 179.7951, 195.8852, 142.4669]), \n",
            "Epoch: 23000, W: (1.217, 0.655, 0.149), b: 0.0, cost: 0.110589              , pred: tensor([152.3813, 184.6397, 179.8025, 195.8784, 142.4732]), \n",
            "Epoch: 24000, W: (1.219, 0.654, 0.148), b: -0.001, cost: 0.11024              , pred: tensor([152.3750, 184.6411, 179.8087, 195.8727, 142.4785]), \n",
            "24878\n"
          ]
        }
      ]
    },
    {
      "cell_type": "markdown",
      "source": [
        "위와 같이 동일한 결과가 나오고 hx.squeeze().detach()를 통해 예측 값을 출력했다.\n",
        "\n",
        "torch의 squeeze함수는 차원이 1인 부분을 제거한다. 예시로 (AxBx1xCx1) 형태를 가진 텐서를 (AxBxC)의 형태로 바꿔준다. detach는 텐서의 기록을 중단한다."
      ],
      "metadata": {
        "id": "R4gCVh9qpYri"
      }
    },
    {
      "cell_type": "markdown",
      "source": [
        "## 0.3.4 nn.Module로 구현하는 선형 회귀"
      ],
      "metadata": {
        "id": "zIXQncrHsl1H"
      }
    },
    {
      "cell_type": "code",
      "source": [
        "import torch\n",
        "import torch.nn as nn\n",
        "import torch.nn.functional as F\n",
        "\n",
        "torch.manual_seed(113)"
      ],
      "metadata": {
        "colab": {
          "base_uri": "https://localhost:8080/"
        },
        "id": "AhjUwC0Htb7l",
        "outputId": "4020d8a4-9ade-4983-d688-4edc23c1e11f"
      },
      "execution_count": 96,
      "outputs": [
        {
          "output_type": "execute_result",
          "data": {
            "text/plain": [
              "<torch._C.Generator at 0x7f82ce11cdf0>"
            ]
          },
          "metadata": {},
          "execution_count": 96
        }
      ]
    },
    {
      "cell_type": "code",
      "source": [
        "X_train = torch.FloatTensor([[1],[2],[3]])\n",
        "y_train = torch.FloatTensor([[2],[4],[6]])"
      ],
      "metadata": {
        "id": "OGJPv-KItxP1"
      },
      "execution_count": 98,
      "outputs": []
    },
    {
      "cell_type": "code",
      "source": [
        "# 선형 회귀 모델 구현\n",
        "# simple linear regression model이므로 input_dim = output_dim = 1\n",
        "model = nn.Linear(1,1)"
      ],
      "metadata": {
        "id": "o1BV_dvnuAu2"
      },
      "execution_count": 134,
      "outputs": []
    },
    {
      "cell_type": "code",
      "source": [
        "# 모델에는 가중치 w와 bias b가 랜덤하게 내장되어 있다.\n",
        "list(model.parameters())"
      ],
      "metadata": {
        "colab": {
          "base_uri": "https://localhost:8080/"
        },
        "id": "3NSdx_DmuR6k",
        "outputId": "3dc5d59e-9313-49ec-eaef-ac3c7f41c258"
      },
      "execution_count": 135,
      "outputs": [
        {
          "output_type": "execute_result",
          "data": {
            "text/plain": [
              "[Parameter containing:\n",
              " tensor([[0.3710]], requires_grad=True),\n",
              " Parameter containing:\n",
              " tensor([0.3650], requires_grad=True)]"
            ]
          },
          "metadata": {},
          "execution_count": 135
        }
      ]
    },
    {
      "cell_type": "code",
      "source": [
        "optimizer = optim.SGD(model.parameters(), lr = 0.01)"
      ],
      "metadata": {
        "id": "S2RkevlFuRh1"
      },
      "execution_count": 136,
      "outputs": []
    },
    {
      "cell_type": "code",
      "source": [
        "X_train = torch.FloatTensor([[1],[2],[3]])\n",
        "y_train = torch.FloatTensor([[2],[4],[6]])\n",
        "\n",
        "epochs = 2050\n",
        "for epoch in range(epochs + 1):\n",
        "    pred = model(X_train)\n",
        "    # pytorch 제공 mse\n",
        "    cost = F.mse_loss(pred, y_train)\n",
        "\n",
        "    optimizer.zero_grad()\n",
        "    cost.backward()\n",
        "    optimizer.step()\n",
        "\n",
        "    if epoch %100 == 0:\n",
        "        print(f'Epoch: {epoch}/{epochs}, cost: {round(cost.item(),6)}')"
      ],
      "metadata": {
        "colab": {
          "base_uri": "https://localhost:8080/"
        },
        "id": "24105eQYuqmg",
        "outputId": "3f2affc5-4f1b-4735-f738-f41099f74501"
      },
      "execution_count": 137,
      "outputs": [
        {
          "output_type": "stream",
          "name": "stdout",
          "text": [
            "Epoch: 0/2050, cost: 10.138409\n",
            "Epoch: 100/2050, cost: 0.072804\n",
            "Epoch: 200/2050, cost: 0.044989\n",
            "Epoch: 300/2050, cost: 0.0278\n",
            "Epoch: 400/2050, cost: 0.017179\n",
            "Epoch: 500/2050, cost: 0.010616\n",
            "Epoch: 600/2050, cost: 0.00656\n",
            "Epoch: 700/2050, cost: 0.004054\n",
            "Epoch: 800/2050, cost: 0.002505\n",
            "Epoch: 900/2050, cost: 0.001548\n",
            "Epoch: 1000/2050, cost: 0.000956\n",
            "Epoch: 1100/2050, cost: 0.000591\n",
            "Epoch: 1200/2050, cost: 0.000365\n",
            "Epoch: 1300/2050, cost: 0.000226\n",
            "Epoch: 1400/2050, cost: 0.000139\n",
            "Epoch: 1500/2050, cost: 8.6e-05\n",
            "Epoch: 1600/2050, cost: 5.3e-05\n",
            "Epoch: 1700/2050, cost: 3.3e-05\n",
            "Epoch: 1800/2050, cost: 2e-05\n",
            "Epoch: 1900/2050, cost: 1.3e-05\n",
            "Epoch: 2000/2050, cost: 8e-06\n"
          ]
        }
      ]
    },
    {
      "cell_type": "code",
      "source": [
        "x = torch.FloatTensor([4.0])\n",
        "pred_y = model(x)\n",
        "\n",
        "print(f'x가 {x.item()}일 때, 예측 값: {round(pred_y.item(),4)}')"
      ],
      "metadata": {
        "colab": {
          "base_uri": "https://localhost:8080/"
        },
        "id": "tzwWca6RwYqV",
        "outputId": "86af6935-af8f-467d-8e23-db82693c942f"
      },
      "execution_count": 138,
      "outputs": [
        {
          "output_type": "stream",
          "name": "stdout",
          "text": [
            "x가 4.0일 때, 예측 값: 7.9951\n"
          ]
        }
      ]
    },
    {
      "cell_type": "code",
      "source": [
        "print(list(model.parameters()))"
      ],
      "metadata": {
        "colab": {
          "base_uri": "https://localhost:8080/"
        },
        "id": "SNtZzlcRLtv-",
        "outputId": "af9e50e2-6014-484a-b4dd-b2bc8e1b4fc9"
      },
      "execution_count": 139,
      "outputs": [
        {
          "output_type": "stream",
          "name": "stdout",
          "text": [
            "[Parameter containing:\n",
            "tensor([[1.9971]], requires_grad=True), Parameter containing:\n",
            "tensor([0.0065], requires_grad=True)]\n"
          ]
        }
      ]
    },
    {
      "cell_type": "markdown",
      "source": [
        "$W$ 값이 2에 가깝고, $b$의 값이 0에 가까워지는 것을 확인할 수 있다. \\\n",
        "Summary\n",
        "* $H(x)$식에 입력 $x$로부터 예측값 $y$를 얻는 것을 forward 연산이라고 한다.\n",
        "* 학습 과정에서 비용 함수를 미분하여 기울기를 구하는 것을 backward 연산이라고 한다."
      ],
      "metadata": {
        "id": "zTiD9OUZMNK6"
      }
    },
    {
      "cell_type": "markdown",
      "source": [
        "* 다중 회귀 구현하기"
      ],
      "metadata": {
        "id": "h5jkoV3nZXJy"
      }
    },
    {
      "cell_type": "code",
      "source": [
        "X_train = torch.FloatTensor([[73, 80, 75],\n",
        "                             [93, 88, 93],\n",
        "                             [89, 91, 90],\n",
        "                             [96, 98, 100],\n",
        "                             [73, 66, 70]])\n",
        "y_train = torch.FloatTensor([[152], [185], [180], [196], [142]])"
      ],
      "metadata": {
        "id": "ei1gG571Za38"
      },
      "execution_count": 178,
      "outputs": []
    },
    {
      "cell_type": "code",
      "source": [
        "torch.manual_seed(1)\n",
        "torch.backends.cudnn.deterministic = True\n",
        "torch.backends.cudnn.benchmark = False"
      ],
      "metadata": {
        "id": "0PU9qiPGb2v4"
      },
      "execution_count": 227,
      "outputs": []
    },
    {
      "cell_type": "code",
      "source": [
        "# 3개의 x값을 input으로 하는 벡터를 넣을 것이니 그것에 맞춰서 model 생성\n",
        "model = nn.Linear(3,1)\n",
        "\n",
        "print(list(model.parameters()))"
      ],
      "metadata": {
        "colab": {
          "base_uri": "https://localhost:8080/"
        },
        "id": "JmyT_V0gbzfD",
        "outputId": "33c38161-f964-47e7-c8b9-997e9bf3e38e"
      },
      "execution_count": 228,
      "outputs": [
        {
          "output_type": "stream",
          "name": "stdout",
          "text": [
            "[Parameter containing:\n",
            "tensor([[ 0.2975, -0.2548, -0.1119]], requires_grad=True), Parameter containing:\n",
            "tensor([0.2710], requires_grad=True)]\n"
          ]
        }
      ]
    },
    {
      "cell_type": "code",
      "source": [
        "optimizer = optim.SGD(model.parameters(), lr = 1e-5)\n",
        "epochs = 2000\n",
        "\n",
        "for epoch in range(epochs + 1):\n",
        "    pred = model(X_train)\n",
        "    cost = F.mse_loss(pred, y_train)\n",
        "\n",
        "    optimizer.zero_grad()\n",
        "    cost.backward()\n",
        "    optimizer.step()\n",
        "    if cost < 0.11:\n",
        "        print(f'Stop Epoch: {epoch}')\n",
        "        break\n",
        "\n",
        "    if epoch % 100 == 0:\n",
        "        print(f'Epoch: {epoch}, cost: {cost.item()}')\n"
      ],
      "metadata": {
        "colab": {
          "base_uri": "https://localhost:8080/"
        },
        "id": "6nkgSOTsZ3Rp",
        "outputId": "8e56da57-24ad-4de1-aefe-51916750e886"
      },
      "execution_count": 229,
      "outputs": [
        {
          "output_type": "stream",
          "name": "stdout",
          "text": [
            "Epoch: 0, cost: 31667.59765625\n",
            "Epoch: 100, cost: 0.22599251568317413\n",
            "Epoch: 200, cost: 0.22391095757484436\n",
            "Epoch: 300, cost: 0.22194059193134308\n",
            "Epoch: 400, cost: 0.2200593650341034\n",
            "Epoch: 500, cost: 0.21827054023742676\n",
            "Epoch: 600, cost: 0.21657471358776093\n",
            "Epoch: 700, cost: 0.21495017409324646\n",
            "Epoch: 800, cost: 0.21341314911842346\n",
            "Epoch: 900, cost: 0.21195237338542938\n",
            "Epoch: 1000, cost: 0.21055957674980164\n",
            "Epoch: 1100, cost: 0.2092321813106537\n",
            "Epoch: 1200, cost: 0.20796695351600647\n",
            "Epoch: 1300, cost: 0.20676115155220032\n",
            "Epoch: 1400, cost: 0.2056186944246292\n",
            "Epoch: 1500, cost: 0.20452241599559784\n",
            "Epoch: 1600, cost: 0.20348374545574188\n",
            "Epoch: 1700, cost: 0.20248515903949738\n",
            "Epoch: 1800, cost: 0.20154185593128204\n",
            "Epoch: 1900, cost: 0.20063495635986328\n",
            "Epoch: 2000, cost: 0.19976890087127686\n"
          ]
        }
      ]
    },
    {
      "cell_type": "code",
      "source": [
        "x = torch.FloatTensor([73, 80, 75])\n",
        "pred = model(x)\n",
        "print(f\"x에 {x.numpy()}를 넣었을 때 예측값: {round(pred.item(),3)}\")"
      ],
      "metadata": {
        "colab": {
          "base_uri": "https://localhost:8080/"
        },
        "id": "r-NxYrizcvRh",
        "outputId": "8f410143-155c-40d3-f697-f975fcd8ba17"
      },
      "execution_count": 220,
      "outputs": [
        {
          "output_type": "stream",
          "name": "stdout",
          "text": [
            "x에 [73. 80. 75.]를 넣었을 때 예측값: 151.262\n"
          ]
        }
      ]
    },
    {
      "cell_type": "code",
      "source": [
        "print(list(model.parameters()))"
      ],
      "metadata": {
        "colab": {
          "base_uri": "https://localhost:8080/"
        },
        "id": "nQ-5DpVQdyLH",
        "outputId": "a1ebeb5a-e34f-489e-94bb-37e9920a4968"
      },
      "execution_count": 230,
      "outputs": [
        {
          "output_type": "stream",
          "name": "stdout",
          "text": [
            "[Parameter containing:\n",
            "tensor([[0.9778, 0.4539, 0.5768]], requires_grad=True), Parameter containing:\n",
            "tensor([0.2802], requires_grad=True)]\n"
          ]
        }
      ]
    },
    {
      "cell_type": "markdown",
      "source": [
        "## 0.3.5 클래스로 모델 구현하기"
      ],
      "metadata": {
        "id": "GTPDexnpe038"
      }
    },
    {
      "cell_type": "code",
      "source": [
        "# Simple Linear Regression\n",
        "torch.manual_seed(113)\n",
        "model = nn.Linear(1,1)"
      ],
      "metadata": {
        "id": "ZUOmRz-Oe5ZD"
      },
      "execution_count": 249,
      "outputs": []
    },
    {
      "cell_type": "code",
      "source": [
        "# Class로 구현\n",
        "class LinearRegressionModel(nn.Module):\n",
        "    def __init__(self):\n",
        "        super().__init__()\n",
        "        self.linear = nn.Linear(1,1)\n",
        "    def forward(self, x):\n",
        "        return self.linear(x)"
      ],
      "metadata": {
        "id": "eWYtRIaMfFpN"
      },
      "execution_count": 255,
      "outputs": []
    },
    {
      "cell_type": "code",
      "source": [
        "model2 = LinearRegressionModel()"
      ],
      "metadata": {
        "id": "aMSuCEkCfdEg"
      },
      "execution_count": 256,
      "outputs": []
    },
    {
      "cell_type": "markdown",
      "source": [
        "* Class 형태의 모델은 nn.Module을 상속받는다.\n",
        "* \\_\\_innt\\_\\_()에서 모델의 구조와 동작을 정의하는 생성자를 정의한다. 이는 파이썬에서 객체가 갖는 속성값을 초기화하는 역할로, 객체가 생성될 때 자동으로 호출된다.\n",
        "* super()함수를 부르면 nn.Module 클래스의 속성을 가지고 초기화 된다.\n",
        "* forward()함수는 모델이 학습 데이터를 입력 받아서 forward연산을 진행한다."
      ],
      "metadata": {
        "id": "SwwOLo7of6bs"
      }
    },
    {
      "cell_type": "code",
      "source": [
        "X_train = torch.FloatTensor([[1], [2], [3]])\n",
        "y_train = torch.FloatTensor([[2], [4], [6]])"
      ],
      "metadata": {
        "id": "70pRWBBxjqKv"
      },
      "execution_count": 263,
      "outputs": []
    },
    {
      "cell_type": "code",
      "source": [
        "optimizer = optim.SGD(model2.parameters(),lr = 0.01)"
      ],
      "metadata": {
        "id": "GgtySFirjuH-"
      },
      "execution_count": 265,
      "outputs": []
    },
    {
      "cell_type": "code",
      "source": [
        "epochs = 2000\n",
        "for epoch in range(epochs+1):\n",
        "    pred = model2(X_train)\n",
        "    cost = F.mse_loss(pred, y_train)\n",
        "\n",
        "    optimizer.zero_grad()\n",
        "    cost.backward()\n",
        "    optimizer.step()\n",
        "\n",
        "    if epoch%100 == 0:\n",
        "        print(f'Epoch: {epoch}, cost: {round(cost.item(), 6)}')"
      ],
      "metadata": {
        "colab": {
          "base_uri": "https://localhost:8080/"
        },
        "id": "f1cI-FMgj4H7",
        "outputId": "7a0b701c-65e1-4123-8a6c-c0244fabf0c4"
      },
      "execution_count": 266,
      "outputs": [
        {
          "output_type": "stream",
          "name": "stdout",
          "text": [
            "Epoch: 0, cost: 35.615822\n",
            "Epoch: 100, cost: 0.105987\n",
            "Epoch: 200, cost: 0.065493\n",
            "Epoch: 300, cost: 0.040471\n",
            "Epoch: 400, cost: 0.025009\n",
            "Epoch: 500, cost: 0.015454\n",
            "Epoch: 600, cost: 0.009549\n",
            "Epoch: 700, cost: 0.005901\n",
            "Epoch: 800, cost: 0.003646\n",
            "Epoch: 900, cost: 0.002253\n",
            "Epoch: 1000, cost: 0.001392\n",
            "Epoch: 1100, cost: 0.00086\n",
            "Epoch: 1200, cost: 0.000532\n",
            "Epoch: 1300, cost: 0.000329\n",
            "Epoch: 1400, cost: 0.000203\n",
            "Epoch: 1500, cost: 0.000125\n",
            "Epoch: 1600, cost: 7.8e-05\n",
            "Epoch: 1700, cost: 4.8e-05\n",
            "Epoch: 1800, cost: 3e-05\n",
            "Epoch: 1900, cost: 1.8e-05\n",
            "Epoch: 2000, cost: 1.1e-05\n"
          ]
        }
      ]
    },
    {
      "cell_type": "code",
      "source": [
        "# 다중회귀 모델(input dim = 3) Class로 구현\n",
        "class MultiLinearRegressionModel(nn.Module):\n",
        "    def __init__(self):\n",
        "        super().__init__()\n",
        "        self.linear = nn.Linear(3,1)\n",
        "    def forward(self, x):\n",
        "        return self.linear(x)"
      ],
      "metadata": {
        "id": "mTvJRbvVjYCb"
      },
      "execution_count": 243,
      "outputs": []
    },
    {
      "cell_type": "code",
      "source": [
        "torch.manual_seed(1)"
      ],
      "metadata": {
        "colab": {
          "base_uri": "https://localhost:8080/"
        },
        "id": "BgNR8mrSltdr",
        "outputId": "3cc9c64e-8c7c-49fc-e911-89c075ebc4d9"
      },
      "execution_count": 269,
      "outputs": [
        {
          "output_type": "execute_result",
          "data": {
            "text/plain": [
              "<torch._C.Generator at 0x7f82ce11cdf0>"
            ]
          },
          "metadata": {},
          "execution_count": 269
        }
      ]
    },
    {
      "cell_type": "code",
      "source": [
        "model3 = MultiLinearRegressionModel()"
      ],
      "metadata": {
        "id": "a4ALIp4ejhNa"
      },
      "execution_count": 270,
      "outputs": []
    },
    {
      "cell_type": "code",
      "source": [
        "X_train = torch.FloatTensor([[73, 80, 75],\n",
        "                             [93, 88, 93],\n",
        "                             [89, 91, 90],\n",
        "                             [96, 98, 100],\n",
        "                             [73, 66, 70]])\n",
        "y_train = torch.FloatTensor([[152], [185], [180], [196], [142]])"
      ],
      "metadata": {
        "id": "E0CqPZc9ldLJ"
      },
      "execution_count": 267,
      "outputs": []
    },
    {
      "cell_type": "code",
      "source": [
        "optimizer = optim.SGD(model3.parameters(), lr = 1e-5)\n",
        "epochs = 2000\n",
        "\n",
        "for epoch in range(epochs + 1):\n",
        "    pred = model3(X_train)\n",
        "    cost = F.mse_loss(pred, y_train)\n",
        "\n",
        "    optimizer.zero_grad()\n",
        "    cost.backward()\n",
        "    optimizer.step()\n",
        "    if cost < 0.11:\n",
        "        print(f'Stop Epoch: {epoch}')\n",
        "        break\n",
        "\n",
        "    if epoch % 100 == 0:\n",
        "        print(f'Epoch: {epoch}, cost: {cost.item()}')\n"
      ],
      "metadata": {
        "colab": {
          "base_uri": "https://localhost:8080/"
        },
        "id": "Ss3hppOJlVkz",
        "outputId": "85976223-01e6-46cb-e33e-89f9c5c53652"
      },
      "execution_count": 271,
      "outputs": [
        {
          "output_type": "stream",
          "name": "stdout",
          "text": [
            "Epoch: 0, cost: 31667.59765625\n",
            "Epoch: 100, cost: 0.22599251568317413\n",
            "Epoch: 200, cost: 0.22391095757484436\n",
            "Epoch: 300, cost: 0.22194059193134308\n",
            "Epoch: 400, cost: 0.2200593650341034\n",
            "Epoch: 500, cost: 0.21827054023742676\n",
            "Epoch: 600, cost: 0.21657471358776093\n",
            "Epoch: 700, cost: 0.21495017409324646\n",
            "Epoch: 800, cost: 0.21341314911842346\n",
            "Epoch: 900, cost: 0.21195237338542938\n",
            "Epoch: 1000, cost: 0.21055957674980164\n",
            "Epoch: 1100, cost: 0.2092321813106537\n",
            "Epoch: 1200, cost: 0.20796695351600647\n",
            "Epoch: 1300, cost: 0.20676115155220032\n",
            "Epoch: 1400, cost: 0.2056186944246292\n",
            "Epoch: 1500, cost: 0.20452241599559784\n",
            "Epoch: 1600, cost: 0.20348374545574188\n",
            "Epoch: 1700, cost: 0.20248515903949738\n",
            "Epoch: 1800, cost: 0.20154185593128204\n",
            "Epoch: 1900, cost: 0.20063495635986328\n",
            "Epoch: 2000, cost: 0.19976890087127686\n"
          ]
        }
      ]
    },
    {
      "cell_type": "markdown",
      "source": [
        "## 0.3.6 미니 배치와 데이터 로드\n",
        "미니 배치란 전체 데이터를 나누어서 학습할 때 나누는 단위를 설명합니다.\\\n",
        "에포크(epoch)는 전체 훈련 데이터가 학습에 한 번 사용된 주기를 말합니다.\\\n",
        "\\\n",
        "그렇다면 미니 배치로 전체 데이터를 5개로 나누었을 때 한 에포크는 5개로 나눈 데이터의 훈련이 완료되었을 때를 의미합니다.\\\n",
        "\\\n",
        "이러한 미니 배치의 이점을 살려 '배치 경사 하강법'을 사용합니다.\n",
        "* 배치 경사 하강법: 전체 데이터를 사용하여 가중치 값이 최적값에 수렴하는 속도를 개선하기 위해 사용, 속도가 빠르다는 장점이 있지만, 최적값으로 수렴하는 과정에서 발산할 수도 있음.\n",
        "* 배치의 크기는 보통 2의 제곱수를 사용. 이유는 CPU와 GPU의 메모리가 2의 배수이므로 배치크기가 2의 배수일 때 데이터 송수신의 효율을 높일 수 있다고 함.\n",
        "* Iteration: 한 번의 에포크에서 매개변수의 업데이트 횟수, 예를 들어 전체 데이터가 2천개이고, mini batch가 200이라면 한 번의 에포크에서 10개의 iteration이 있음."
      ],
      "metadata": {
        "id": "mGVPeUyyukKk"
      }
    },
    {
      "cell_type": "code",
      "source": [
        "from torch.utils.data import TensorDataset\n",
        "from torch.utils.data import DataLoader"
      ],
      "metadata": {
        "id": "EPW5P96Jwhfy"
      },
      "execution_count": 274,
      "outputs": []
    },
    {
      "cell_type": "code",
      "source": [
        "# 다중 선형 회귀에 사용된 데이터 다시 불러옴\n",
        "X_train  =  torch.FloatTensor([[73,  80,  75], \n",
        "                               [93,  88,  93], \n",
        "                               [89,  91,  90], \n",
        "                               [96,  98,  100],   \n",
        "                               [73,  66,  70]])  \n",
        "y_train  =  torch.FloatTensor([[152],  [185],  [180],  [196],  [142]])"
      ],
      "metadata": {
        "id": "xjkGjVeExsHi"
      },
      "execution_count": 275,
      "outputs": []
    },
    {
      "cell_type": "code",
      "source": [
        "# TensorDataset으로 입력을 받아 dataset에 저장\n",
        "dataset = TensorDataset(X_train, y_train)"
      ],
      "metadata": {
        "id": "1E_fv8NAxztG"
      },
      "execution_count": 276,
      "outputs": []
    },
    {
      "cell_type": "code",
      "source": [
        "dataloader = DataLoader(dataset, shuffle = True, batch_size = 2)"
      ],
      "metadata": {
        "id": "CrZ1PvVmyCBm"
      },
      "execution_count": 278,
      "outputs": []
    },
    {
      "cell_type": "code",
      "source": [
        "# 총 5개의 텐서 중, batch_size를 2로 두었으므로 2개, 2개, 1개로 나뉘어짐.\n",
        "for i in dataloader:\n",
        "    print(i)"
      ],
      "metadata": {
        "colab": {
          "base_uri": "https://localhost:8080/"
        },
        "id": "UYon_bbCyM20",
        "outputId": "a7745c52-6987-4108-ae61-c842b78509ad"
      },
      "execution_count": 280,
      "outputs": [
        {
          "output_type": "stream",
          "name": "stdout",
          "text": [
            "[tensor([[ 73.,  80.,  75.],\n",
            "        [ 96.,  98., 100.]]), tensor([[152.],\n",
            "        [196.]])]\n",
            "[tensor([[89., 91., 90.],\n",
            "        [73., 66., 70.]]), tensor([[180.],\n",
            "        [142.]])]\n",
            "[tensor([[93., 88., 93.]]), tensor([[185.]])]\n"
          ]
        }
      ]
    },
    {
      "cell_type": "code",
      "source": [
        "torch.manual_seed(1)\n",
        "model = nn.Linear(3,1)\n",
        "optimizer = optim.SGD(model.parameters(), lr = 1e-5)"
      ],
      "metadata": {
        "id": "6IsnPfTPylBi"
      },
      "execution_count": 292,
      "outputs": []
    },
    {
      "cell_type": "code",
      "source": [
        "epochs = 20\n",
        "for epoch in range(epochs+1):\n",
        "    for batch_idx, samples in enumerate(dataloader):\n",
        "        X_train, y_train = samples\n",
        "        pred = model(X_train)\n",
        "        cost = F.mse_loss(pred, y_train)\n",
        "\n",
        "        optimizer.zero_grad()\n",
        "        cost.backward()\n",
        "        optimizer.step()\n",
        "        \n",
        "        print(f'Epoch: {epoch}/{epochs}, batch_step: {batch_idx+1}/{len(dataloader)}, cost{round(cost.item(),4)}')"
      ],
      "metadata": {
        "colab": {
          "base_uri": "https://localhost:8080/"
        },
        "id": "RrhkfS6oyzOq",
        "outputId": "b84468fa-e9ac-4b48-e6d7-0d7485661d28"
      },
      "execution_count": 293,
      "outputs": [
        {
          "output_type": "stream",
          "name": "stdout",
          "text": [
            "Epoch: 0/20, batch_step: 1/3, cost23071.7812\n",
            "Epoch: 0/20, batch_step: 2/3, cost17581.3594\n",
            "Epoch: 0/20, batch_step: 3/3, cost3703.5535\n",
            "Epoch: 1/20, batch_step: 1/3, cost857.1318\n",
            "Epoch: 1/20, batch_step: 2/3, cost194.9126\n",
            "Epoch: 1/20, batch_step: 3/3, cost103.1507\n",
            "Epoch: 2/20, batch_step: 1/3, cost16.4609\n",
            "Epoch: 2/20, batch_step: 2/3, cost10.9707\n",
            "Epoch: 2/20, batch_step: 3/3, cost2.9531\n",
            "Epoch: 3/20, batch_step: 1/3, cost1.2463\n",
            "Epoch: 3/20, batch_step: 2/3, cost0.095\n",
            "Epoch: 3/20, batch_step: 3/3, cost0.1044\n",
            "Epoch: 4/20, batch_step: 1/3, cost0.6784\n",
            "Epoch: 4/20, batch_step: 2/3, cost0.1234\n",
            "Epoch: 4/20, batch_step: 3/3, cost0.1181\n",
            "Epoch: 5/20, batch_step: 1/3, cost0.0948\n",
            "Epoch: 5/20, batch_step: 2/3, cost0.5315\n",
            "Epoch: 5/20, batch_step: 3/3, cost0.0112\n",
            "Epoch: 6/20, batch_step: 1/3, cost0.22\n",
            "Epoch: 6/20, batch_step: 2/3, cost0.0424\n",
            "Epoch: 6/20, batch_step: 3/3, cost0.9175\n",
            "Epoch: 7/20, batch_step: 1/3, cost0.2138\n",
            "Epoch: 7/20, batch_step: 2/3, cost0.6402\n",
            "Epoch: 7/20, batch_step: 3/3, cost0.0053\n",
            "Epoch: 8/20, batch_step: 1/3, cost0.4549\n",
            "Epoch: 8/20, batch_step: 2/3, cost0.0114\n",
            "Epoch: 8/20, batch_step: 3/3, cost0.2987\n",
            "Epoch: 9/20, batch_step: 1/3, cost0.5604\n",
            "Epoch: 9/20, batch_step: 2/3, cost0.0112\n",
            "Epoch: 9/20, batch_step: 3/3, cost0.2442\n",
            "Epoch: 10/20, batch_step: 1/3, cost0.6137\n",
            "Epoch: 10/20, batch_step: 2/3, cost0.0249\n",
            "Epoch: 10/20, batch_step: 3/3, cost0.0664\n",
            "Epoch: 11/20, batch_step: 1/3, cost0.1166\n",
            "Epoch: 11/20, batch_step: 2/3, cost0.045\n",
            "Epoch: 11/20, batch_step: 3/3, cost0.9588\n",
            "Epoch: 12/20, batch_step: 1/3, cost0.235\n",
            "Epoch: 12/20, batch_step: 2/3, cost0.1545\n",
            "Epoch: 12/20, batch_step: 3/3, cost0.8611\n",
            "Epoch: 13/20, batch_step: 1/3, cost0.3985\n",
            "Epoch: 13/20, batch_step: 2/3, cost0.3044\n",
            "Epoch: 13/20, batch_step: 3/3, cost0.0154\n",
            "Epoch: 14/20, batch_step: 1/3, cost0.0507\n",
            "Epoch: 14/20, batch_step: 2/3, cost0.4828\n",
            "Epoch: 14/20, batch_step: 3/3, cost0.4142\n",
            "Epoch: 15/20, batch_step: 1/3, cost0.5132\n",
            "Epoch: 15/20, batch_step: 2/3, cost0.0683\n",
            "Epoch: 15/20, batch_step: 3/3, cost0.2152\n",
            "Epoch: 16/20, batch_step: 1/3, cost0.0696\n",
            "Epoch: 16/20, batch_step: 2/3, cost0.0528\n",
            "Epoch: 16/20, batch_step: 3/3, cost1.1641\n",
            "Epoch: 17/20, batch_step: 1/3, cost0.034\n",
            "Epoch: 17/20, batch_step: 2/3, cost0.4867\n",
            "Epoch: 17/20, batch_step: 3/3, cost0.2092\n",
            "Epoch: 18/20, batch_step: 1/3, cost0.0242\n",
            "Epoch: 18/20, batch_step: 2/3, cost0.1291\n",
            "Epoch: 18/20, batch_step: 3/3, cost1.1345\n",
            "Epoch: 19/20, batch_step: 1/3, cost0.4904\n",
            "Epoch: 19/20, batch_step: 2/3, cost0.1548\n",
            "Epoch: 19/20, batch_step: 3/3, cost0.0118\n",
            "Epoch: 20/20, batch_step: 1/3, cost0.4087\n",
            "Epoch: 20/20, batch_step: 2/3, cost0.1944\n",
            "Epoch: 20/20, batch_step: 3/3, cost0.0045\n"
          ]
        }
      ]
    },
    {
      "cell_type": "code",
      "source": [
        "x = torch.FloatTensor([[73, 80 ,75]])\n",
        "pred = model(x)\n",
        "print(f'x의 값 {x.numpy()}을 넣었을 때, 예측값: {round(pred.item(),6)}')"
      ],
      "metadata": {
        "colab": {
          "base_uri": "https://localhost:8080/"
        },
        "id": "GFQXpfZ10EAV",
        "outputId": "861f85bd-6bad-4d38-b3e5-2d74dc46d75d"
      },
      "execution_count": 294,
      "outputs": [
        {
          "output_type": "stream",
          "name": "stdout",
          "text": [
            "x의 값 [[73. 80. 75.]]을 넣었을 때, 예측값: 151.082947\n"
          ]
        }
      ]
    }
  ]
}